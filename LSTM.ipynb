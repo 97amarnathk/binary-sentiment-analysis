{
 "cells": [
  {
   "cell_type": "markdown",
   "metadata": {},
   "source": [
    "# LSTM Based Sentiment Analysis of the IMdB Movie Review Dataset\n"
   ]
  },
  {
   "cell_type": "code",
   "execution_count": 15,
   "metadata": {},
   "outputs": [],
   "source": [
    "from keras.datasets import imdb\n",
    "from keras.preprocessing import sequence\n",
    "import matplotlib.pyplot as plt\n",
    "\n",
    "from keras import Sequential\n",
    "from keras.layers import Embedding, LSTM, Dense, Dropout\n",
    "from keras.utils import to_categorical"
   ]
  },
  {
   "cell_type": "code",
   "execution_count": 16,
   "metadata": {},
   "outputs": [],
   "source": [
    "vocabulary_size = 5000\n",
    "word_to_id = imdb.get_word_index()\n",
    "(train_data, train_label), (test_data, test_label) = imdb.load_data(num_words = vocabulary_size)\n",
    "id_to_word = {i: word for word,i in word_to_id.items()}"
   ]
  },
  {
   "cell_type": "code",
   "execution_count": 17,
   "metadata": {},
   "outputs": [
    {
     "name": "stdout",
     "output_type": "stream",
     "text": [
      "Max review length : 2697\n",
      "Max review length : 70\n",
      "train data : (25000,)\n",
      "test data : (25000,)\n"
     ]
    }
   ],
   "source": [
    "print(\"Max review length : {}\".format(len(max(train_data + test_data, key = len))))\n",
    "print(\"Max review length : {}\".format(len(min(train_data + test_data, key = len))))\n",
    "print(\"train data : {}\".format(train_data.shape))\n",
    "print(\"test data : {}\".format(test_data.shape))"
   ]
  },
  {
   "cell_type": "code",
   "execution_count": 18,
   "metadata": {},
   "outputs": [],
   "source": [
    "max_words = 500\n",
    "XTrain = sequence.pad_sequences(train_data, maxlen=max_words)\n",
    "XTest = sequence.pad_sequences(test_data, maxlen=max_words)\n",
    "YTrain = to_categorical(train_label)\n",
    "YTest = to_categorical(test_label)"
   ]
  },
  {
   "cell_type": "code",
   "execution_count": 19,
   "metadata": {},
   "outputs": [
    {
     "name": "stdout",
     "output_type": "stream",
     "text": [
      "_________________________________________________________________\n",
      "Layer (type)                 Output Shape              Param #   \n",
      "=================================================================\n",
      "embedding_3 (Embedding)      (None, 500, 32)           160000    \n",
      "_________________________________________________________________\n",
      "lstm_3 (LSTM)                (None, 100)               53200     \n",
      "_________________________________________________________________\n",
      "dense_3 (Dense)              (None, 2)                 202       \n",
      "=================================================================\n",
      "Total params: 213,402\n",
      "Trainable params: 213,402\n",
      "Non-trainable params: 0\n",
      "_________________________________________________________________\n"
     ]
    }
   ],
   "source": [
    "embedding_size = 32\n",
    "model = Sequential()\n",
    "\n",
    "model.add(Embedding(vocabulary_size, embedding_size, input_length=max_words))\n",
    "model.add(LSTM(100, activation='tanh'))\n",
    "model.add(Dense(2, activation='softmax'))\n",
    "model.compile(loss='categorical_crossentropy', \n",
    "             optimizer='adam', \n",
    "             metrics=['accuracy'])\n",
    "model.summary()"
   ]
  },
  {
   "cell_type": "code",
   "execution_count": 20,
   "metadata": {},
   "outputs": [
    {
     "name": "stdout",
     "output_type": "stream",
     "text": [
      "Train on 22500 samples, validate on 2500 samples\n",
      "Epoch 1/4\n",
      "22500/22500 [==============================] - 155s 7ms/step - loss: 0.6653 - acc: 0.6293 - val_loss: 0.5924 - val_acc: 0.7240\n",
      "Epoch 2/4\n",
      "22500/22500 [==============================] - 153s 7ms/step - loss: 0.3779 - acc: 0.8381 - val_loss: 0.3017 - val_acc: 0.8768\n",
      "Epoch 3/4\n",
      "22500/22500 [==============================] - 156s 7ms/step - loss: 0.2410 - acc: 0.9058 - val_loss: 0.2939 - val_acc: 0.8836\n",
      "Epoch 4/4\n",
      "22500/22500 [==============================] - 167s 7ms/step - loss: 0.2103 - acc: 0.9201 - val_loss: 0.3365 - val_acc: 0.8804\n"
     ]
    }
   ],
   "source": [
    "history = model.fit(XTrain, YTrain, batch_size=256, validation_split=0.1, epochs = 4)"
   ]
  },
  {
   "cell_type": "code",
   "execution_count": 24,
   "metadata": {},
   "outputs": [
    {
     "data": {
      "image/png": "[encoded data removed]",
      "text/plain": [
       "<Figure size 432x288 with 2 Axes>"
      ]
     },
     "metadata": {},
     "output_type": "display_data"
    }
   ],
   "source": [
    "plt.subplot(211)\n",
    "plt.plot(history.history['acc'])\n",
    "plt.plot(history.history['val_acc'])\n",
    "plt.grid(True)\n",
    "\n",
    "plt.subplot(212)\n",
    "plt.plot(history.history['loss'])\n",
    "plt.plot(history.history['val_loss'])\n",
    "plt.grid(True)"
   ]
  },
  {
   "cell_type": "code",
   "execution_count": 22,
   "metadata": {},
   "outputs": [
    {
     "name": "stdout",
     "output_type": "stream",
     "text": [
      "25000/25000 [==============================] - 87s 3ms/step\n",
      "Test accuracy: 0.87572\n"
     ]
    }
   ],
   "source": [
    "scores = model.evaluate(XTest, YTest, verbose=True)\n",
    "print('Test accuracy:', scores[1])"
   ]
  }
 ],
 "metadata": {
  "kernelspec": {
   "display_name": "Python 3",
   "language": "python",
   "name": "python3"
  },
  "language_info": {
   "codemirror_mode": {
    "name": "ipython",
    "version": 3
   },
   "file_extension": ".py",
   "mimetype": "text/x-python",
   "name": "python",
   "nbconvert_exporter": "python",
   "pygments_lexer": "ipython3",
   "version": "3.6.8"
  }
 },
 "nbformat": 4,
 "nbformat_minor": 2
}
