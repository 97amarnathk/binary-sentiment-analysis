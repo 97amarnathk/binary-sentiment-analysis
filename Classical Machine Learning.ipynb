{
 "cells": [
  {
   "cell_type": "markdown",
   "metadata": {},
   "source": [
    "# Binary Sentiment Analysis using Classical Machine Learning algorithms\n",
    "\n",
    "Here we use algorithms like:\n",
    "\n",
    "1. Bag of Words + Logistic Regression\n",
    "2. Bag of Words + Multinomial Naive Bayes"
   ]
  },
  {
   "cell_type": "code",
   "execution_count": 457,
   "metadata": {},
   "outputs": [],
   "source": [
    "from sklearn.model_selection import GridSearchCV\n",
    "from sklearn.linear_model import LogisticRegression\n",
    "\n",
    "from sklearn.feature_extraction.text import CountVectorizer, TfidfVectorizer, TfidfTransformer\n",
    "from sklearn.metrics import confusion_matrix\n",
    "from sklearn.pipeline import Pipeline\n",
    "from sklearn.naive_bayes import MultinomialNB\n",
    "from sklearn.metrics import classification_report\n",
    "\n",
    "import nltk\n",
    "from nltk.corpus import stopwords\n",
    "\n",
    "import matplotlib.pyplot as plt\n",
    "import mglearn\n",
    "\n",
    "import pandas as pd\n",
    "import numpy as np\n",
    "import re\n",
    "import math"
   ]
  },
  {
   "cell_type": "code",
   "execution_count": 220,
   "metadata": {},
   "outputs": [],
   "source": [
    "df = pd.read_csv('movie_data.csv')"
   ]
  },
  {
   "cell_type": "code",
   "execution_count": 221,
   "metadata": {},
   "outputs": [
    {
     "data": {
      "text/html": [
       "<div>\n",
       "<style scoped>\n",
       "    .dataframe tbody tr th:only-of-type {\n",
       "        vertical-align: middle;\n",
       "    }\n",
       "\n",
       "    .dataframe tbody tr th {\n",
       "        vertical-align: top;\n",
       "    }\n",
       "\n",
       "    .dataframe thead th {\n",
       "        text-align: right;\n",
       "    }\n",
       "</style>\n",
       "<table border=\"1\" class=\"dataframe\">\n",
       "  <thead>\n",
       "    <tr style=\"text-align: right;\">\n",
       "      <th></th>\n",
       "      <th>review</th>\n",
       "      <th>sentiment</th>\n",
       "    </tr>\n",
       "  </thead>\n",
       "  <tbody>\n",
       "    <tr>\n",
       "      <th>0</th>\n",
       "      <td>My family and I normally do not watch local mo...</td>\n",
       "      <td>1</td>\n",
       "    </tr>\n",
       "    <tr>\n",
       "      <th>1</th>\n",
       "      <td>Believe it or not, this was at one time the wo...</td>\n",
       "      <td>0</td>\n",
       "    </tr>\n",
       "    <tr>\n",
       "      <th>2</th>\n",
       "      <td>After some internet surfing, I found the \"Home...</td>\n",
       "      <td>0</td>\n",
       "    </tr>\n",
       "    <tr>\n",
       "      <th>3</th>\n",
       "      <td>One of the most unheralded great works of anim...</td>\n",
       "      <td>1</td>\n",
       "    </tr>\n",
       "    <tr>\n",
       "      <th>4</th>\n",
       "      <td>It was the Sixties, and anyone with long hair ...</td>\n",
       "      <td>0</td>\n",
       "    </tr>\n",
       "  </tbody>\n",
       "</table>\n",
       "</div>"
      ],
      "text/plain": [
       "                                              review  sentiment\n",
       "0  My family and I normally do not watch local mo...          1\n",
       "1  Believe it or not, this was at one time the wo...          0\n",
       "2  After some internet surfing, I found the \"Home...          0\n",
       "3  One of the most unheralded great works of anim...          1\n",
       "4  It was the Sixties, and anyone with long hair ...          0"
      ]
     },
     "execution_count": 221,
     "metadata": {},
     "output_type": "execute_result"
    }
   ],
   "source": [
    "df.head(5)"
   ]
  },
  {
   "cell_type": "code",
   "execution_count": 222,
   "metadata": {},
   "outputs": [
    {
     "data": {
      "text/plain": [
       "'e most part. If it were not for Zucco and Strange\\'s presence, along with the cute Anne Nagel, this would be completely unwatchable. Strange, who would go on to play Frankenstein\\'s monster for Unuiversal in two years, does a Lenny impression from \"Of Mice and Men\", it seems.<br /><br />*1/2 (of Four)'"
      ]
     },
     "execution_count": 222,
     "metadata": {},
     "output_type": "execute_result"
    }
   ],
   "source": [
    "df.loc[20, 'review'][-300:]"
   ]
  },
  {
   "cell_type": "code",
   "execution_count": 223,
   "metadata": {},
   "outputs": [],
   "source": [
    "def preprocessor(text):\n",
    "    text = re.sub('<[^>]*>', ' ', text)\n",
    "    text = re.sub('[\\W]+', ' ', text.lower())\n",
    "    return text"
   ]
  },
  {
   "cell_type": "code",
   "execution_count": 224,
   "metadata": {},
   "outputs": [
    {
     "data": {
      "text/plain": [
       "'e most part if it were not for zucco and strange s presence along with the cute anne nagel this would be completely unwatchable strange who would go on to play frankenstein s monster for unuiversal in two years does a lenny impression from of mice and men it seems 1 2 of four '"
      ]
     },
     "execution_count": 224,
     "metadata": {},
     "output_type": "execute_result"
    }
   ],
   "source": [
    "#test\n",
    "preprocessor(df.loc[20, 'review'][-300:])"
   ]
  },
  {
   "cell_type": "code",
   "execution_count": 225,
   "metadata": {},
   "outputs": [],
   "source": [
    "#apply preprocessor to all reviews\n",
    "df['review'] = df['review'].apply(preprocessor)"
   ]
  },
  {
   "cell_type": "markdown",
   "metadata": {},
   "source": [
    "# Logistic Regression"
   ]
  },
  {
   "cell_type": "code",
   "execution_count": 226,
   "metadata": {},
   "outputs": [],
   "source": [
    "train_fraction = 0.5\n",
    "train_index = math.floor(df.shape[0]*train_fraction)\n",
    "\n",
    "train_data = df.loc[:train_index, 'review'].values\n",
    "train_label = df.loc[:train_index, 'sentiment'].values\n",
    "test_data = df.loc[train_index:, 'review'].values\n",
    "test_label = df.loc[train_index:, 'sentiment'].values\n",
    "\n",
    "YTrain = train_label\n",
    "YTest = test_label"
   ]
  },
  {
   "cell_type": "code",
   "execution_count": 227,
   "metadata": {},
   "outputs": [
    {
     "data": {
      "text/plain": [
       "'for a scientifically engineered super dog that was supposed to be the answer to petit crime chomps was a chump all i ever saw chomps do was sit or walk or run or run then walk then sit and then get back up again and stretch and then walk and then jog to k tel dance hits and sometimes it had all the answers to the daily jumbo but mostly it just sat a lot all i am saying is in a celebrity death match chomps couldn t take out mr bigglesworth '"
      ]
     },
     "execution_count": 227,
     "metadata": {},
     "output_type": "execute_result"
    }
   ],
   "source": [
    "train_data[-1]"
   ]
  },
  {
   "cell_type": "code",
   "execution_count": 228,
   "metadata": {},
   "outputs": [
    {
     "data": {
      "text/plain": [
       "'for a scientifically engineered super dog that was supposed to be the answer to petit crime chomps was a chump all i ever saw chomps do was sit or walk or run or run then walk then sit and then get back up again and stretch and then walk and then jog to k tel dance hits and sometimes it had all the answers to the daily jumbo but mostly it just sat a lot all i am saying is in a celebrity death match chomps couldn t take out mr bigglesworth '"
      ]
     },
     "execution_count": 228,
     "metadata": {},
     "output_type": "execute_result"
    }
   ],
   "source": [
    "test_data[0]"
   ]
  },
  {
   "cell_type": "markdown",
   "metadata": {},
   "source": [
    "## Vectorize into bag of words"
   ]
  },
  {
   "cell_type": "code",
   "execution_count": 518,
   "metadata": {},
   "outputs": [],
   "source": [
    "vect = CountVectorizer(min_df=2, ngram_range=(1, 3))\n",
    "XTrain = vect.fit(train_data).transform(train_data)\n",
    "XTest = vect.transform(test_data)"
   ]
  },
  {
   "cell_type": "code",
   "execution_count": 519,
   "metadata": {},
   "outputs": [
    {
     "name": "stdout",
     "output_type": "stream",
     "text": [
      "Vocabulary size: 877673\n",
      "XTrain : \n",
      "<25001x877673 sparse matrix of type '<class 'numpy.int64'>'\n",
      "\twith 9747995 stored elements in Compressed Sparse Row format>\n",
      "XTest : \n",
      "<25000x877673 sparse matrix of type '<class 'numpy.int64'>'\n",
      "\twith 8918241 stored elements in Compressed Sparse Row format>\n",
      "Features : 877673\n"
     ]
    }
   ],
   "source": [
    "print(\"Vocabulary size: {}\".format(len(vect.vocabulary_)))\n",
    "print(\"XTrain : \\n{}\".format(repr(XTrain)))\n",
    "print(\"XTest : \\n{}\".format(repr(XTest)))\n",
    "print(\"Features : {}\".format(len(vect.get_feature_names())))"
   ]
  },
  {
   "cell_type": "markdown",
   "metadata": {},
   "source": [
    "## Logistic regression with parameter tuning"
   ]
  },
  {
   "cell_type": "code",
   "execution_count": 520,
   "metadata": {},
   "outputs": [
    {
     "name": "stderr",
     "output_type": "stream",
     "text": [
      "/Users/97amarnathk/miniconda3/lib/python3.6/site-packages/sklearn/linear_model/logistic.py:432: FutureWarning: Default solver will be changed to 'lbfgs' in 0.22. Specify a solver to silence this warning.\n",
      "  FutureWarning)\n"
     ]
    },
    {
     "data": {
      "text/plain": [
       "GridSearchCV(cv=5, error_score='raise-deprecating',\n",
       "       estimator=LogisticRegression(C=1.0, class_weight=None, dual=False, fit_intercept=True,\n",
       "          intercept_scaling=1, max_iter=100, multi_class='warn',\n",
       "          n_jobs=None, penalty='l2', random_state=None, solver='warn',\n",
       "          tol=0.0001, verbose=0, warm_start=False),\n",
       "       fit_params=None, iid='warn', n_jobs=None,\n",
       "       param_grid={'C': [0.05, 0.1, 0.2, 0.5, 1]}, pre_dispatch='2*n_jobs',\n",
       "       refit=True, return_train_score='warn', scoring=None, verbose=0)"
      ]
     },
     "execution_count": 520,
     "metadata": {},
     "output_type": "execute_result"
    }
   ],
   "source": [
    "parameter_grid = {'C': [0.05, 0.1, 0.2, 0.5, 1]}\n",
    "grid = GridSearchCV(LogisticRegression(), parameter_grid, cv = 5)\n",
    "grid.fit(XTrain, YTrain)"
   ]
  },
  {
   "cell_type": "code",
   "execution_count": 521,
   "metadata": {},
   "outputs": [
    {
     "name": "stdout",
     "output_type": "stream",
     "text": [
      "Best cross-validation score: 0.8956041758329667\n",
      "Best parameters:  {'C': 0.2}\n",
      "Best estimator:  LogisticRegression(C=0.2, class_weight=None, dual=False, fit_intercept=True,\n",
      "          intercept_scaling=1, max_iter=100, multi_class='warn',\n",
      "          n_jobs=None, penalty='l2', random_state=None, solver='warn',\n",
      "          tol=0.0001, verbose=0, warm_start=False)\n"
     ]
    }
   ],
   "source": [
    "print(\"Best cross-validation score: {}\".format(grid.best_score_))\n",
    "print(\"Best parameters: \", grid.best_params_)\n",
    "print(\"Best estimator: \", grid.best_estimator_)"
   ]
  },
  {
   "cell_type": "code",
   "execution_count": 522,
   "metadata": {},
   "outputs": [
    {
     "data": {
      "image/png": "[encoded data removed]",
      "text/plain": [
       "<Figure size 1080x360 with 1 Axes>"
      ]
     },
     "metadata": {},
     "output_type": "display_data"
    }
   ],
   "source": [
    "mglearn.tools.visualize_coefficients(grid.best_estimator_.coef_, vect.get_feature_names(), n_top_features=40)\n",
    "plt.savefig('logistic_1.png', format=\"png\", dpi=300)"
   ]
  },
  {
   "cell_type": "code",
   "execution_count": 523,
   "metadata": {},
   "outputs": [
    {
     "name": "stderr",
     "output_type": "stream",
     "text": [
      "/Users/97amarnathk/miniconda3/lib/python3.6/site-packages/sklearn/linear_model/logistic.py:432: FutureWarning: Default solver will be changed to 'lbfgs' in 0.22. Specify a solver to silence this warning.\n",
      "  FutureWarning)\n"
     ]
    },
    {
     "data": {
      "text/plain": [
       "LogisticRegression(C=0.2, class_weight=None, dual=False, fit_intercept=True,\n",
       "          intercept_scaling=1, max_iter=100, multi_class='warn',\n",
       "          n_jobs=None, penalty='l2', random_state=None, solver='warn',\n",
       "          tol=0.0001, verbose=0, warm_start=False)"
      ]
     },
     "execution_count": 523,
     "metadata": {},
     "output_type": "execute_result"
    }
   ],
   "source": [
    "lr = grid.best_estimator_\n",
    "lr.fit(XTrain, YTrain)"
   ]
  },
  {
   "cell_type": "code",
   "execution_count": 524,
   "metadata": {},
   "outputs": [
    {
     "name": "stdout",
     "output_type": "stream",
     "text": [
      "Score: 0.90492\n"
     ]
    }
   ],
   "source": [
    "lr.predict(XTest)\n",
    "print(\"Score: {}\".format(lr.score(XTest, YTest)))"
   ]
  },
  {
   "cell_type": "code",
   "execution_count": 525,
   "metadata": {},
   "outputs": [
    {
     "name": "stdout",
     "output_type": "stream",
     "text": [
      "11282 1245 1132 11341\n"
     ]
    }
   ],
   "source": [
    "ypred = lr.predict(XTest)\n",
    "tn, fp, fn, tp = confusion_matrix(YTest, ypred).ravel()\n",
    "print(tn, fp, fn, tp)"
   ]
  },
  {
   "cell_type": "markdown",
   "metadata": {},
   "source": [
    "# Logistic Regression with stopwords removed"
   ]
  },
  {
   "cell_type": "code",
   "execution_count": 241,
   "metadata": {},
   "outputs": [],
   "source": [
    "df_stop = df.copy()"
   ]
  },
  {
   "cell_type": "code",
   "execution_count": 566,
   "metadata": {},
   "outputs": [],
   "source": [
    "stop_words = set(stopwords.words('english'))\n",
    "\n",
    "required = {\n",
    " 'about',\n",
    " 'above',\n",
    " 'after',\n",
    " 'again',\n",
    " 'against',\n",
    " 'ain',\n",
    " 'all',\n",
    " 'any',\n",
    " 'are',\n",
    " 'aren',\n",
    " \"aren't\",\n",
    " 'because',\n",
    " 'been',\n",
    " 'before',\n",
    " 'being',\n",
    " 'below',\n",
    " 'between',\n",
    " 'both',\n",
    " 'can',\n",
    " 'couldn',\n",
    " \"couldn't\",\n",
    " 'did',\n",
    " 'didn',\n",
    " \"didn't\",\n",
    " 'do',\n",
    " 'does',\n",
    " 'doesn',\n",
    " \"doesn't\",\n",
    " 'doing',\n",
    " 'don',\n",
    " \"don't\",\n",
    " 'down',\n",
    " 'each',\n",
    " 'few',\n",
    " 'for',\n",
    " 'further',\n",
    " 'had',\n",
    " 'hadn',\n",
    " \"hadn't\",\n",
    " 'has',\n",
    " 'hasn',\n",
    " \"hasn't\",\n",
    " 'have',\n",
    " 'haven',\n",
    " \"haven't\",\n",
    " 'having',\n",
    " 'how',\n",
    " 'is',\n",
    " 'isn',\n",
    " \"isn't\",\n",
    " 'just',\n",
    " 'mightn',\n",
    " \"mightn't\",\n",
    " 'more',\n",
    " 'most',\n",
    " 'mustn',\n",
    " \"mustn't\",\n",
    " 'needn',\n",
    " \"needn't\",\n",
    " 'no',\n",
    " 'nor',\n",
    " 'not',\n",
    " 'off',\n",
    " 'on',\n",
    " 'once',\n",
    " 'only',\n",
    " 'or',\n",
    " 'other',\n",
    " 'our',\n",
    " 'ours',\n",
    " 'ourselves',\n",
    " 'out',\n",
    " 'over',\n",
    " 'own',\n",
    " 'same',\n",
    " 'shan',\n",
    " \"shan't\",\n",
    " 'should',\n",
    " \"should've\",\n",
    " 'shouldn',\n",
    " \"shouldn't\",\n",
    " 'some',\n",
    " 'such',\n",
    " 'than',\n",
    " 'that',\n",
    " \"that'll\",\n",
    " 'their',\n",
    " 'theirs',\n",
    " 'then',\n",
    " 'there',\n",
    " 'these',\n",
    " 'this',\n",
    " 'those',\n",
    " 'through',\n",
    " 'to',\n",
    " 'too',\n",
    " 'under',\n",
    " 'until',\n",
    " 'up',\n",
    " 'very',\n",
    " 'was',\n",
    " 'wasn',\n",
    " \"wasn't\",\n",
    " 'were',\n",
    " 'weren',\n",
    " \"weren't\",\n",
    " 'what',\n",
    " 'when',\n",
    " 'where',\n",
    " 'which',\n",
    " 'while',\n",
    " 'who',\n",
    " 'whom',\n",
    " 'why',\n",
    " 'will',\n",
    " 'with',\n",
    " 'won',\n",
    " \"won't\",\n",
    " 'wouldn',\n",
    " \"wouldn't\",\n",
    " 'y',\n",
    " \"you're\",\n",
    " \"you've\",\n",
    " 'your',\n",
    " 'yours',\n",
    " 'yourself',\n",
    " 'yourselves'\n",
    "}\n",
    "\n",
    "stop_words = set(stopwords.words('english'))"
   ]
  },
  {
   "cell_type": "code",
   "execution_count": 567,
   "metadata": {},
   "outputs": [
    {
     "name": "stdout",
     "output_type": "stream",
     "text": [
      "{'ourselves', \"you're\", 'before', 'weren', 'hasn', \"wasn't\", 'mightn', 'there', \"hasn't\", \"weren't\", 'and', \"mightn't\", 'same', 'does', 'ma', 'yourself', 'that', 've', 'theirs', 'while', 'hadn', \"didn't\", 'where', 'now', 'his', 'so', \"shan't\", 'the', 'themselves', 'but', 'through', 'both', 'shan', 'him', 'a', 'for', \"haven't\", 'should', 'their', 'was', 'about', 'then', 'those', 'why', 's', 'me', 'll', \"don't\", 'he', 'itself', 'down', 'between', 'wasn', 'haven', 'doing', 'into', 'our', 'all', 'having', 'you', 'being', 'only', 'than', 'i', 'd', \"she's\", 'this', 'your', 'nor', 'here', 'off', 'each', 'these', 'once', 'or', 'am', 'isn', 'few', \"wouldn't\", 'be', 'who', 'will', 'we', 'shouldn', \"it's\", 'won', 'up', 'had', 'in', 'needn', 'didn', 'by', 'during', 'm', 'she', \"doesn't\", 'it', \"aren't\", 'her', 'against', 'some', 'until', 'are', 'above', \"mustn't\", 'on', 'ain', 'other', 'just', 'because', \"couldn't\", 'doesn', 'hers', 'own', 'to', 'were', 'did', \"isn't\", 'over', 'wouldn', 'of', 'very', 'an', 'how', 'any', 'whom', 'what', \"should've\", 'my', 'ours', 'when', 'yourselves', \"hadn't\", 'y', 'further', \"you'll\", 'after', 'with', 'is', 'as', 'aren', 'herself', \"you've\", 'more', 'myself', 'himself', \"shouldn't\", 'has', 'not', 'have', 'from', 'them', 'yours', 'which', 'don', 'its', \"that'll\", 're', \"needn't\", 'under', \"you'd\", 'they', 'below', 'couldn', 'too', 'no', 'can', 'at', \"won't\", 'out', 'most', 'if', 'o', 't', 'again', 'been', 'do', 'mustn', 'such'}\n"
     ]
    }
   ],
   "source": [
    "print(stop_words)\n",
    "def remove_stopwords(text):\n",
    "    tokens = nltk.tokenize.word_tokenize(text)\n",
    "    tokens = [w for w in tokens if not w in stop_words]\n",
    "    text = \" \".join(tokens)\n",
    "    return text"
   ]
  },
  {
   "cell_type": "code",
   "execution_count": 568,
   "metadata": {},
   "outputs": [],
   "source": [
    "df_stop['review'] = df_stop['review'].apply(remove_stopwords)"
   ]
  },
  {
   "cell_type": "code",
   "execution_count": 569,
   "metadata": {},
   "outputs": [],
   "source": [
    "train_fraction = 0.5\n",
    "train_index = math.floor(df_stop.shape[0]*train_fraction)\n",
    "\n",
    "train_data_stop = df_stop.loc[:train_index, 'review'].values\n",
    "train_label_stop = df_stop.loc[:train_index, 'sentiment'].values\n",
    "test_data_stop = df_stop.loc[train_index:, 'review'].values\n",
    "test_label_stop = df_stop.loc[train_index:, 'sentiment'].values\n",
    "\n",
    "YTrain = train_label_stop\n",
    "YTest = test_label_stop"
   ]
  },
  {
   "cell_type": "code",
   "execution_count": 570,
   "metadata": {},
   "outputs": [],
   "source": [
    "vect = CountVectorizer(min_df=5, ngram_range=(1,2))\n",
    "XTrain = vect.fit(train_data_stop).transform(train_data_stop)\n",
    "XTest = vect.transform(test_data_stop)"
   ]
  },
  {
   "cell_type": "code",
   "execution_count": 571,
   "metadata": {},
   "outputs": [
    {
     "name": "stdout",
     "output_type": "stream",
     "text": [
      "Vocabulary size: 89228\n",
      "XTrain : \n",
      "<25001x89228 sparse matrix of type '<class 'numpy.int64'>'\n",
      "\twith 3202393 stored elements in Compressed Sparse Row format>\n",
      "XTest : \n",
      "<25000x89228 sparse matrix of type '<class 'numpy.int64'>'\n",
      "\twith 3111489 stored elements in Compressed Sparse Row format>\n",
      "Features : 89228\n"
     ]
    }
   ],
   "source": [
    "print(\"Vocabulary size: {}\".format(len(vect.vocabulary_)))\n",
    "print(\"XTrain : \\n{}\".format(repr(XTrain)))\n",
    "print(\"XTest : \\n{}\".format(repr(XTest)))\n",
    "print(\"Features : {}\".format(len(vect.get_feature_names())))"
   ]
  },
  {
   "cell_type": "code",
   "execution_count": 572,
   "metadata": {},
   "outputs": [
    {
     "name": "stderr",
     "output_type": "stream",
     "text": [
      "/Users/97amarnathk/miniconda3/lib/python3.6/site-packages/sklearn/linear_model/logistic.py:432: FutureWarning: Default solver will be changed to 'lbfgs' in 0.22. Specify a solver to silence this warning.\n",
      "  FutureWarning)\n"
     ]
    },
    {
     "data": {
      "text/plain": [
       "GridSearchCV(cv=5, error_score='raise-deprecating',\n",
       "       estimator=LogisticRegression(C=1.0, class_weight=None, dual=False, fit_intercept=True,\n",
       "          intercept_scaling=1, max_iter=200, multi_class='warn',\n",
       "          n_jobs=None, penalty='l2', random_state=None, solver='warn',\n",
       "          tol=0.0001, verbose=0, warm_start=False),\n",
       "       fit_params=None, iid='warn', n_jobs=None,\n",
       "       param_grid={'C': [0.9, 1, 1.1, 1.2]}, pre_dispatch='2*n_jobs',\n",
       "       refit=True, return_train_score='warn', scoring=None, verbose=0)"
      ]
     },
     "execution_count": 572,
     "metadata": {},
     "output_type": "execute_result"
    }
   ],
   "source": [
    "parameter_grid = {'C': [ 0.9, 1, 1.1, 1.2]}\n",
    "grid = GridSearchCV(LogisticRegression(max_iter = 200), parameter_grid, cv = 5)\n",
    "grid.fit(XTrain, YTrain)"
   ]
  },
  {
   "cell_type": "code",
   "execution_count": 573,
   "metadata": {},
   "outputs": [
    {
     "name": "stdout",
     "output_type": "stream",
     "text": [
      "Best cross-validation score: 0.8868045278188872\n",
      "Best parameters:  {'C': 0.9}\n",
      "Best estimator:  LogisticRegression(C=0.9, class_weight=None, dual=False, fit_intercept=True,\n",
      "          intercept_scaling=1, max_iter=200, multi_class='warn',\n",
      "          n_jobs=None, penalty='l2', random_state=None, solver='warn',\n",
      "          tol=0.0001, verbose=0, warm_start=False)\n"
     ]
    }
   ],
   "source": [
    "print(\"Best cross-validation score: {}\".format(grid.best_score_))\n",
    "print(\"Best parameters: \", grid.best_params_)\n",
    "print(\"Best estimator: \", grid.best_estimator_)"
   ]
  },
  {
   "cell_type": "code",
   "execution_count": 574,
   "metadata": {},
   "outputs": [
    {
     "data": {
      "image/png": "[encoded data removed]",
      "text/plain": [
       "<Figure size 1080x360 with 1 Axes>"
      ]
     },
     "metadata": {},
     "output_type": "display_data"
    }
   ],
   "source": [
    "mglearn.tools.visualize_coefficients(grid.best_estimator_.coef_, vect.get_feature_names(), n_top_features=40)\n"
   ]
  },
  {
   "cell_type": "code",
   "execution_count": 575,
   "metadata": {},
   "outputs": [
    {
     "name": "stderr",
     "output_type": "stream",
     "text": [
      "/Users/97amarnathk/miniconda3/lib/python3.6/site-packages/sklearn/linear_model/logistic.py:432: FutureWarning: Default solver will be changed to 'lbfgs' in 0.22. Specify a solver to silence this warning.\n",
      "  FutureWarning)\n"
     ]
    },
    {
     "data": {
      "text/plain": [
       "LogisticRegression(C=0.9, class_weight=None, dual=False, fit_intercept=True,\n",
       "          intercept_scaling=1, max_iter=200, multi_class='warn',\n",
       "          n_jobs=None, penalty='l2', random_state=None, solver='warn',\n",
       "          tol=0.0001, verbose=0, warm_start=False)"
      ]
     },
     "execution_count": 575,
     "metadata": {},
     "output_type": "execute_result"
    }
   ],
   "source": [
    "lr = grid.best_estimator_\n",
    "lr.fit(XTrain, YTrain)"
   ]
  },
  {
   "cell_type": "code",
   "execution_count": 576,
   "metadata": {},
   "outputs": [
    {
     "name": "stdout",
     "output_type": "stream",
     "text": [
      "Score: 0.8912\n"
     ]
    }
   ],
   "source": [
    "lr.predict(XTest)\n",
    "print(\"Score: {}\".format(lr.score(XTest, YTest)))"
   ]
  },
  {
   "cell_type": "code",
   "execution_count": 577,
   "metadata": {},
   "outputs": [
    {
     "name": "stdout",
     "output_type": "stream",
     "text": [
      "11134 1393 1327 11146\n"
     ]
    }
   ],
   "source": [
    "ypred = lr.predict(XTest)\n",
    "tn, fp, fn, tp = confusion_matrix(YTest, ypred).ravel()\n",
    "print(tn, fp, fn, tp)"
   ]
  },
  {
   "cell_type": "markdown",
   "metadata": {},
   "source": [
    "## TF-IDF  + Logistic Regression"
   ]
  },
  {
   "cell_type": "code",
   "execution_count": 557,
   "metadata": {},
   "outputs": [],
   "source": [
    "train_fraction = 0.5\n",
    "train_index = math.floor(df.shape[0]*train_fraction)\n",
    "\n",
    "train_data = df.loc[:train_index, 'review'].values\n",
    "train_label = df.loc[:train_index, 'sentiment'].values\n",
    "test_data = df.loc[train_index:, 'review'].values\n",
    "test_label = df.loc[train_index:, 'sentiment'].values\n",
    "\n",
    "YTrain = train_label\n",
    "YTest = test_label"
   ]
  },
  {
   "cell_type": "code",
   "execution_count": 558,
   "metadata": {},
   "outputs": [],
   "source": [
    "vect = TfidfVectorizer(ngram_range=(1, 3), max_df=0.9, min_df=5, sublinear_tf=True)\n",
    "XTrain = vect.fit(train_data).transform(train_data)\n",
    "XTest = vect.transform(test_data)"
   ]
  },
  {
   "cell_type": "code",
   "execution_count": 559,
   "metadata": {},
   "outputs": [
    {
     "name": "stdout",
     "output_type": "stream",
     "text": [
      "Vocabulary size: 246690\n",
      "XTrain : \n",
      "<25001x246690 sparse matrix of type '<class 'numpy.float64'>'\n",
      "\twith 8069433 stored elements in Compressed Sparse Row format>\n",
      "XTest : \n",
      "<25000x246690 sparse matrix of type '<class 'numpy.float64'>'\n",
      "\twith 7825522 stored elements in Compressed Sparse Row format>\n",
      "Features : 246690\n"
     ]
    }
   ],
   "source": [
    "print(\"Vocabulary size: {}\".format(len(vect.vocabulary_)))\n",
    "print(\"XTrain : \\n{}\".format(repr(XTrain)))\n",
    "print(\"XTest : \\n{}\".format(repr(XTest)))\n",
    "print(\"Features : {}\".format(len(vect.get_feature_names())))"
   ]
  },
  {
   "cell_type": "code",
   "execution_count": 560,
   "metadata": {},
   "outputs": [
    {
     "name": "stderr",
     "output_type": "stream",
     "text": [
      "/Users/97amarnathk/miniconda3/lib/python3.6/site-packages/sklearn/linear_model/logistic.py:432: FutureWarning: Default solver will be changed to 'lbfgs' in 0.22. Specify a solver to silence this warning.\n",
      "  FutureWarning)\n"
     ]
    },
    {
     "name": "stdout",
     "output_type": "stream",
     "text": [
      "Best cross-validation score: 0.9058037678492861\n",
      "Best parameters:  {'C': 7.9}\n",
      "Best estimator:  LogisticRegression(C=7.9, class_weight=None, dual=False, fit_intercept=True,\n",
      "          intercept_scaling=1, max_iter=300, multi_class='warn',\n",
      "          n_jobs=None, penalty='l2', random_state=None, solver='warn',\n",
      "          tol=0.0001, verbose=0, warm_start=False)\n"
     ]
    }
   ],
   "source": [
    "parameter_grid = {'C': [7.9,8,8.25]}\n",
    "grid = GridSearchCV(LogisticRegression(max_iter = 300), parameter_grid, cv = 5)\n",
    "grid.fit(XTrain, YTrain)\n",
    "print(\"Best cross-validation score: {}\".format(grid.best_score_))\n",
    "print(\"Best parameters: \", grid.best_params_)\n",
    "print(\"Best estimator: \", grid.best_estimator_)"
   ]
  },
  {
   "cell_type": "code",
   "execution_count": 561,
   "metadata": {},
   "outputs": [
    {
     "data": {
      "image/png": "[encoded data removed]",
      "text/plain": [
       "<Figure size 1080x360 with 1 Axes>"
      ]
     },
     "metadata": {},
     "output_type": "display_data"
    }
   ],
   "source": [
    "mglearn.tools.visualize_coefficients(grid.best_estimator_.coef_, vect.get_feature_names(), n_top_features=40)"
   ]
  },
  {
   "cell_type": "code",
   "execution_count": 562,
   "metadata": {},
   "outputs": [
    {
     "name": "stderr",
     "output_type": "stream",
     "text": [
      "/Users/97amarnathk/miniconda3/lib/python3.6/site-packages/sklearn/linear_model/logistic.py:432: FutureWarning: Default solver will be changed to 'lbfgs' in 0.22. Specify a solver to silence this warning.\n",
      "  FutureWarning)\n"
     ]
    },
    {
     "data": {
      "text/plain": [
       "LogisticRegression(C=7.9, class_weight=None, dual=False, fit_intercept=True,\n",
       "          intercept_scaling=1, max_iter=300, multi_class='warn',\n",
       "          n_jobs=None, penalty='l2', random_state=None, solver='warn',\n",
       "          tol=0.0001, verbose=0, warm_start=False)"
      ]
     },
     "execution_count": 562,
     "metadata": {},
     "output_type": "execute_result"
    }
   ],
   "source": [
    "lr = grid.best_estimator_\n",
    "lr.fit(XTrain, YTrain)"
   ]
  },
  {
   "cell_type": "code",
   "execution_count": 563,
   "metadata": {},
   "outputs": [
    {
     "name": "stdout",
     "output_type": "stream",
     "text": [
      "Score: 0.91404\n"
     ]
    }
   ],
   "source": [
    "lr.predict(XTest)\n",
    "print(\"Score: {}\".format(lr.score(XTest, YTest)))"
   ]
  },
  {
   "cell_type": "code",
   "execution_count": 565,
   "metadata": {},
   "outputs": [
    {
     "name": "stdout",
     "output_type": "stream",
     "text": [
      "11402 1125 1024 11449\n"
     ]
    }
   ],
   "source": [
    "ypred = lr.predict(XTest)\n",
    "tn, fp, fn, tp = confusion_matrix(YTest, ypred).ravel()\n",
    "print(tn, fp, fn, tp)"
   ]
  },
  {
   "cell_type": "markdown",
   "metadata": {},
   "source": [
    "## Multinomial Naive Bayes"
   ]
  },
  {
   "cell_type": "code",
   "execution_count": 547,
   "metadata": {},
   "outputs": [],
   "source": [
    "train_fraction = 0.5\n",
    "train_index = math.floor(df.shape[0]*train_fraction)\n",
    "\n",
    "train_data = df.loc[:train_index, 'review'].values\n",
    "train_label = df.loc[:train_index, 'sentiment'].values\n",
    "test_data = df.loc[train_index:, 'review'].values\n",
    "test_label = df.loc[train_index:, 'sentiment'].values\n",
    "\n",
    "YTrain = train_label\n",
    "YTest = test_label"
   ]
  },
  {
   "cell_type": "code",
   "execution_count": 548,
   "metadata": {},
   "outputs": [],
   "source": [
    "vect = TfidfVectorizer(ngram_range=(1, 3), max_df=0.9, min_df=1, sublinear_tf=True)\n",
    "XTrain = vect.fit(train_data).transform(train_data)\n",
    "XTest = vect.transform(test_data)"
   ]
  },
  {
   "cell_type": "code",
   "execution_count": 554,
   "metadata": {},
   "outputs": [
    {
     "name": "stdout",
     "output_type": "stream",
     "text": [
      "Best cross-validation score: 0.8985640574377025\n",
      "Best parameters:  {'alpha': 0.08}\n",
      "Best estimator:  MultinomialNB(alpha=0.08, class_prior=None, fit_prior=True)\n"
     ]
    }
   ],
   "source": [
    "parameter_grid = {'alpha': [ 0.08, 0.09 ,0.1, 0.12]}\n",
    "\n",
    "grid = GridSearchCV(MultinomialNB(), parameter_grid, cv = 5)\n",
    "grid.fit(XTrain, YTrain)\n",
    "print(\"Best cross-validation score: {}\".format(grid.best_score_))\n",
    "print(\"Best parameters: \", grid.best_params_)\n",
    "print(\"Best estimator: \", grid.best_estimator_)"
   ]
  },
  {
   "cell_type": "code",
   "execution_count": 555,
   "metadata": {},
   "outputs": [
    {
     "data": {
      "text/plain": [
       "MultinomialNB(alpha=0.08, class_prior=None, fit_prior=True)"
      ]
     },
     "execution_count": 555,
     "metadata": {},
     "output_type": "execute_result"
    }
   ],
   "source": [
    "mnb = grid.best_estimator_\n",
    "mnb.fit(XTrain, YTrain)"
   ]
  },
  {
   "cell_type": "code",
   "execution_count": 556,
   "metadata": {},
   "outputs": [
    {
     "name": "stdout",
     "output_type": "stream",
     "text": [
      "Score: 0.90488\n"
     ]
    }
   ],
   "source": [
    "mnb.predict(XTest)\n",
    "print(\"Score: {}\".format(mnb.score(XTest, YTest)))"
   ]
  }
 ],
 "metadata": {
  "kernelspec": {
   "display_name": "Python 3",
   "language": "python",
   "name": "python3"
  },
  "language_info": {
   "codemirror_mode": {
    "name": "ipython",
    "version": 3
   },
   "file_extension": ".py",
   "mimetype": "text/x-python",
   "name": "python",
   "nbconvert_exporter": "python",
   "pygments_lexer": "ipython3",
   "version": "3.6.8"
  }
 },
 "nbformat": 4,
 "nbformat_minor": 2
}
